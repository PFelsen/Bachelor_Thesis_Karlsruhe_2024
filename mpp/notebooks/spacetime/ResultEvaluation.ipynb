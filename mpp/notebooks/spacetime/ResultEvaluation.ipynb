{
 "cells": [
  {
   "cell_type": "code",
   "execution_count": null,
   "metadata": {},
   "outputs": [],
   "source": [
    "import os\n",
    "import matplotlib.pyplot as plt\n",
    "import numpy as np\n",
    "import matplotlib.gridspec as grd\n",
    "import itertools as it\n",
    "import re\n",
    "import pickle\n",
    "from collections import defaultdict\n",
    "import itertools\n",
    "import pandas as pd\n",
    "\n",
    "if not os.getcwd().endswith(\"spacetimeproject\"):\n",
    "    os.chdir(\"..\")\n",
    "    print(os.getcwd())\n",
    "from mpp.python.mppy.mppy import Mpp\n",
    "\n",
    "mpp = Mpp(project_name=\"spacetimeproject\")\n",
    "\n",
    "print(\"Project:\", mpp.dm.PROJECT_ROOT_DIR)\n",
    "print(\"MPP:\", mpp.dm.MPP_ROOT_DIR)"
   ]
  },
  {
   "cell_type": "code",
   "execution_count": null,
   "metadata": {},
   "outputs": [],
   "source": [
    "!conda env list\n",
    "!conda install latexindent.pl -c conda-forge"
   ]
  },
  {
   "cell_type": "code",
   "execution_count": null,
   "metadata": {},
   "outputs": [],
   "source": [
    "slices = [slice(0,3), slice(1,2), slice(1,2)]\n",
    "def sliceup(lsls):\n",
    "    res = []\n",
    "    for ls, sli in zip(lsls, slices):\n",
    "        res.extend(ls[sli])\n",
    "    return res\n",
    "\n",
    "def form_int(s):\n",
    "    m = len(s)%3\n",
    "    if m == 0:\n",
    "        m = 3\n",
    "    g = s[:m]\n",
    "    for i in range(m,len(s)-3+1,3):\n",
    "        g+= \"\\,\" + s[i: i+3]    \n",
    "    return g\n",
    "\n",
    "def format_line(line):\n",
    "    elems = [e.strip() for e in line.split(\",\") if e.strip()]\n",
    "    line_e = []\n",
    "    for e in elems:\n",
    "        if \".\" not in e and \",\" not in e:\n",
    "            line_e.append(f(e))\n",
    "        \n",
    "    return \" & \".join(line_e)\n",
    "\n",
    "def form_scientific(s):\n",
    "    try:\n",
    "        s = str(int(s))\n",
    "        return form_int(s)\n",
    "    except: \n",
    "        pass\n",
    "    e = 0\n",
    "    s = float(s)\n",
    "    while s < 1:\n",
    "        s*=10\n",
    "        e -= 1\n",
    "    if e == 0:\n",
    "        return \"$\" + str(s)[:5] + \"$\" \n",
    "    return \"$\" + str(s)[:5] + r\"\\mathrm{e}{\" + str(e) + \"}$\" \n",
    "\n",
    "def form_fixed(s, p=5):\n",
    "    #print(\"\\n\", \"form_fixed\", s)\n",
    "    if type(s) is str:\n",
    "        s = s.strip()\n",
    "        if s.startswith(\"(\") and s.endswith(\")\"):\n",
    "            s = eval(s)\n",
    "    \n",
    "    if type(s) is tuple:\n",
    "        #print(\"tup\")\n",
    "        return \" $ \" + r\" \\times \".join(form_int(str(k)) for k in s) + \" $ \"\n",
    "\n",
    "    if type(s) in (int, str, float) and float(s) == int(float(s)):\n",
    "        try:\n",
    "            s = str(int(s))\n",
    "            #print(\"int\")\n",
    "            return form_int(s)\n",
    "        except: \n",
    "            pass\n",
    "    s = float(s)\n",
    "    z = f\"{{s:.{p}f}}\".format(s=s)\n",
    "    \n",
    "    if float(z) == 0:\n",
    "        z+= \"Precision too low.\"\n",
    "        print(\"Precision too low.\")\n",
    "    #print(\"float\")\n",
    "    return f\"$ {z} $\"\n",
    "\n",
    "for z in [\"0.00123\", \"1.00123\", \"12345678910\", \".00000001\"]:\n",
    "    print(form_scientific(z), \"####\", form_fixed(z))"
   ]
  },
  {
   "cell_type": "code",
   "execution_count": null,
   "metadata": {},
   "outputs": [],
   "source": [
    "def parse(name):\n",
    "    if \"1\" in name:\n",
    "        t = \"L2SpaceAtT1.000000_error\"\n",
    "        c0 = np.array([1, 1, 1])\n",
    "    elif \"2\" in name:\n",
    "        t = \"L2SpaceAtT0.500000_error\"\n",
    "        c0 = np.array([1, 4, 2])\n",
    "    \n",
    "    mpp.reset_data()\n",
    "    mpp.parse_log(os.getcwd()+\"/notebooks/results/log_\"+name+\"_uniform\")\n",
    "    mpp.parse_log(os.getcwd()+\"/notebooks/results/log_\"+name+\"_adaptive6\")\n",
    "    log_data= mpp.parse_log(os.getcwd()+\"/notebooks/results/log_\"+name+\"_adaptive7\")\n",
    "\n",
    "\n",
    "    #print(log_data)\n",
    "    keys = [        \n",
    "        \"meshsize\",\n",
    "        \"Cells2\", \n",
    "        \"degree\",\n",
    "        \"DoFs\",    \n",
    "        \"hline\",\n",
    "        \"||u_proj-u_h||_DG\",\n",
    "        \"eta_(res,h)\",\n",
    "        \"eta_(dg,h)\",\n",
    "        t, \n",
    "        \"hline\",\n",
    "        \"L2_Error\",         \n",
    "        \"||u_conf - u  ||\",\n",
    "        \"L2_proj_Error\", \n",
    "        \"eta_(conf,h)\"                    \n",
    "    ]\n",
    "    data = {k:sliceup(v) for k,v in log_data.items() if k in keys}\n",
    "    data[\"Cells2\"] = [tuple(c0 * 2 ** level) for level in (6,7,8,6,7)]\n",
    "    keys[1] = \"Cells2\"\n",
    "    return keys, data"
   ]
  },
  {
   "cell_type": "code",
   "execution_count": null,
   "metadata": {},
   "outputs": [],
   "source": [
    "key2tex = {\n",
    "            \"Cells\" :                   r'\\char\"0023cells',\n",
    "            \"Cells2\" :                  r'\\char\"0023cells',\n",
    "            \"DoFs\":                     r'$\\dim V_h$'      ,\n",
    "            \"L2_Error\":                 r'$\\big\\|\\vec u - \\vec u_h\\big\\|_Q$',\n",
    "            \"L2_proj_Error\":            r\"$\\big\\|\\vec u - \\Pi_h\\vec u\\big\\|_Q$\",\n",
    "            \"||u_conf - u  ||\":         r\"$\\big\\|\\vec u - \\vec u_h^\\text{\\rm cf}\\big\\|_Q$\",\n",
    "            \"L2SpaceAtT1.000000_error\": r'$\\big\\|\\vec u(T) - \\vec u_h(T)\\big\\|_\\Omega$',\n",
    "            \"L2SpaceAtT0.500000_error\": r'$\\big\\|\\vec u(T) - \\vec u_h(T)\\big\\|_\\Omega$',\n",
    "            \"||u_proj-u_h||_DG\":        r\"$\\big\\|\\vec u - \\vec u_h\\big\\|_{\\DG,h}$\",\n",
    "            \"eta_(res,h)\":              r\"$\\eta_{\\text{\\rm res},h}$\",\n",
    "            \"eta_(conf,h)\":             r\"$\\eta_{{\\mathrm L}_2,h}$\",\n",
    "            \"eta_(dg,h)\":               r\"$\\eta_{\\DG,h}$ \"\n",
    "    }"
   ]
  },
  {
   "cell_type": "code",
   "execution_count": null,
   "metadata": {},
   "outputs": [],
   "source": [
    "\n",
    "\n",
    "def table(keys, data):\n",
    "    print(r'''\\begin{table}[H]\n",
    "\\caption{Convergence test for ...} \n",
    "\\centering\n",
    "\\begin{tabular}{l|ccc|cc}''')    \n",
    "    for i, key in enumerate(keys):\n",
    "        #print(i,k)\n",
    "        if key == \"meshsize\":\n",
    "            print('mesh size $h$    & $2^{-6}$    & $2^{-7}$     & $2^{-8}$  & $2^{-6}$ & $2^{-7}$')\n",
    "            print(r\"\\\\\")\n",
    "            continue\n",
    "        if key == \"degree\":\n",
    "            print(r'''$p_R= q_R$ & 1 & 1 & 1 & $0 \\leq \\cdot \\leq 2$ & $0 \\leq \\cdot \\leq 2$\\\\''')\n",
    "            continue;\n",
    "        if key == \"hline\":\n",
    "            print(r\"\\hline\")\n",
    "            continue\n",
    "            \n",
    "        print(key2tex[key],\" & \", end=\"\")\n",
    "        #print(data[key])\n",
    "        print(\" & \".join(form_fixed(g) for g in data[key]))\n",
    "        if i < len(keys) - 1:\n",
    "            print(r\"\\\\\")\n",
    "        \n",
    "    \n",
    "    print(r\"\"\"\\end{tabular}\n",
    "\\end{table}\"\"\")"
   ]
  },
  {
   "cell_type": "code",
   "execution_count": null,
   "metadata": {},
   "outputs": [],
   "source": [
    "!ls notebooks/results"
   ]
  },
  {
   "cell_type": "code",
   "execution_count": null,
   "metadata": {},
   "outputs": [],
   "source": [
    "table(*parse(\"exp1\"))"
   ]
  },
  {
   "cell_type": "code",
   "execution_count": null,
   "metadata": {},
   "outputs": [],
   "source": [
    "table(*parse(\"exp1_aligned\"))"
   ]
  },
  {
   "cell_type": "code",
   "execution_count": null,
   "metadata": {},
   "outputs": [],
   "source": [
    "table(*parse(\"exp2\"))"
   ]
  },
  {
   "cell_type": "code",
   "execution_count": null,
   "metadata": {},
   "outputs": [],
   "source": []
  },
  {
   "cell_type": "code",
   "execution_count": null,
   "metadata": {},
   "outputs": [],
   "source": []
  },
  {
   "cell_type": "code",
   "execution_count": null,
   "metadata": {},
   "outputs": [],
   "source": []
  },
  {
   "cell_type": "code",
   "execution_count": null,
   "metadata": {},
   "outputs": [],
   "source": []
  }
 ],
 "metadata": {
  "kernelspec": {
   "display_name": "Python 3",
   "language": "python",
   "name": "python3"
  },
  "language_info": {
   "codemirror_mode": {
    "name": "ipython",
    "version": 3
   },
   "file_extension": ".py",
   "mimetype": "text/x-python",
   "name": "python",
   "nbconvert_exporter": "python",
   "pygments_lexer": "ipython3",
   "version": "3.8.10"
  }
 },
 "nbformat": 4,
 "nbformat_minor": 4
}
