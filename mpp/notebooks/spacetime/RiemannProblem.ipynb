{
 "cells": [
  {
   "cell_type": "markdown",
   "metadata": {},
   "source": [
    "<font size=\"6\">**Riemann-problem for acoustics**</font>\n",
    "$$\n",
    "\\partial_t p = \\text{div} \\mathbf{v} \\\\ \n",
    "\\partial_t \\mathbf{v} = \\nabla p \n",
    "$$\n",
    "\n",
    "$$\n",
    "u_0(x) \n",
    "= \\begin{pmatrix} p_0(x) \\\\ \\mathbf{v_0}(x)  \\end{pmatrix} \n",
    "= \\begin{cases}\n",
    "\\begin{pmatrix} 1.1 \\\\ \\mathbf{0}  \\end{pmatrix}, \\quad x \\in \\Omega_L =(-0.5,0\\phantom{.5}), \\\\\n",
    "\\begin{pmatrix} 0.9 \\\\ \\mathbf{0}  \\end{pmatrix}, \\quad x \\in  \\Omega_R =(\\phantom{-}0\\phantom{.0},0.5),\n",
    "\\end{cases}\n",
    "$$"
   ]
  },
  {
   "cell_type": "code",
   "execution_count": null,
   "metadata": {},
   "outputs": [],
   "source": [
    "!git pull\n",
    "!git submodule update"
   ]
  },
  {
   "cell_type": "code",
   "execution_count": null,
   "metadata": {},
   "outputs": [],
   "source": [
    "!pip install pandas"
   ]
  },
  {
   "cell_type": "code",
   "execution_count": null,
   "metadata": {},
   "outputs": [],
   "source": [
    "import os\n",
    "import matplotlib.pyplot as plt\n",
    "import numpy as np\n",
    "import matplotlib.gridspec as grd\n",
    "import itertools as it\n",
    "import re\n",
    "import pickle\n",
    "from collections import defaultdict\n",
    "import itertools\n",
    "import pandas as pd\n",
    "\n",
    "if not os.getcwd().endswith(\"spacetimeproject\"):\n",
    "    os.chdir(\"..\")\n",
    "    print(os.getcwd())\n",
    "from mpp.python.mppy.mppy import Mpp\n",
    "\n",
    "mpp = Mpp(project_name=\"spacetimeproject\")\n",
    "\n",
    "print(\"Project:\", mpp.dm.PROJECT_ROOT_DIR)\n",
    "print(\"MPP:\", mpp.dm.MPP_ROOT_DIR)\n",
    "\n",
    "def run(procs, kwargs):\n",
    "    return mpp.run(procs, \"riemann\", kwargs, return_log=True)"
   ]
  },
  {
   "cell_type": "code",
   "execution_count": null,
   "metadata": {},
   "outputs": [],
   "source": [
    "mpp.build()"
   ]
  },
  {
   "cell_type": "code",
   "execution_count": null,
   "metadata": {},
   "outputs": [],
   "source": [
    "hosts = {8:64,9:64}"
   ]
  },
  {
   "cell_type": "code",
   "execution_count": null,
   "metadata": {},
   "outputs": [],
   "source": [
    "#mpp.read_log()"
   ]
  },
  {
   "cell_type": "code",
   "execution_count": null,
   "metadata": {},
   "outputs": [],
   "source": [
    "hosts={20:32, 21:32}"
   ]
  },
  {
   "cell_type": "code",
   "execution_count": null,
   "metadata": {},
   "outputs": [],
   "source": [
    "def run_and_plot(kwargs, title, host, fig = None, val = \"\"):\n",
    "    mpp.reset_data()\n",
    "    mpp.run(host, \"riemann\", kwargs)\n",
    "    mpp.parse_log()\n",
    "    #errs = [[\"L1_Error\", \"L2_Error\", \"LInf_Error\"], [\"L1_int_Error\", \"L2_int_Error\", \"LInf_int_Error\"]]\n",
    "    '''plt.rcParams['figure.figsize'] = [15, 5]\n",
    "    shape = (2,len(errs[0]))\n",
    "    if fig:\n",
    "        if not fig.axes:\n",
    "            axs = fig.subplots(*shape)\n",
    "        else:\n",
    "            axs = np.array(fig.axes).reshape(shape)\n",
    "    else:\n",
    "        fig, axs = plt.subplots(*shape)\n",
    "    \n",
    "    fig.suptitle(title, fontsize=15)\n",
    "    for e1, row in zip(errs,axs):\n",
    "        for err, ax in zip(e1, row):\n",
    "            e = mpp.data[err][0]\n",
    "            ax.set_title(err)\n",
    "            ax.semilogy(e, marker=\"x\", label=val)\n",
    "\n",
    "    fig.tight_layout()\n",
    "    fig.subplots_adjust(top=0.85)\n",
    "    #fig.legend()\n",
    "    cols = errs[0]+errs[1] + [\"L1_Error Rates\", \"L2_Error Rates\", \"LInf_Error_Rate\"]\n",
    "    g = [mpp.data[name][0] for name in cols]\n",
    "    dat = list(map(list, itertools.zip_longest(*g, fillvalue=0)))\n",
    "    if val:\n",
    "        cols = [c + \"_\"+ val for c in cols]\n",
    "    return pd.DataFrame(dat, columns=cols).transpose()'''"
   ]
  },
  {
   "cell_type": "code",
   "execution_count": null,
   "metadata": {},
   "outputs": [],
   "source": [
    "run_and_plot({\"space_deg\":0,\"time_deg\":0, \"level\":7}, \"Riemann Problem\", 4)"
   ]
  },
  {
   "cell_type": "code",
   "execution_count": null,
   "metadata": {},
   "outputs": [],
   "source": [
    "mpp.parse_log()"
   ]
  },
  {
   "cell_type": "code",
   "execution_count": null,
   "metadata": {},
   "outputs": [],
   "source": [
    "run_and_plot({\"space_deg\":0,\"time_deg\":0, \"Problem\":\"SinCos\"}, \"SinCos Problem\", 4)"
   ]
  },
  {
   "cell_type": "code",
   "execution_count": null,
   "metadata": {},
   "outputs": [],
   "source": [
    "if \"L1_Error Order\" in mpp.data:\n",
    "    print(\"L1_Error Order:\", mpp.data[\"L1_Error Order\"])"
   ]
  },
  {
   "cell_type": "code",
   "execution_count": null,
   "metadata": {},
   "outputs": [],
   "source": [
    "def run_and_plot_multi(kwargs, title, host):\n",
    "    ls = [(arg, val) for arg, val in kwargs.items() if type(val) == list]\n",
    "    print(ls)\n",
    "    dfs = []\n",
    "    if ls:\n",
    "        arg = ls[0][0]\n",
    "        fig = plt.figure()\n",
    "        for val in ls[0][1]:            \n",
    "            kwargs[arg] = val            \n",
    "            df = run_and_plot(kwargs, title, host, fig=fig, val=val)\n",
    "            dfs.append(df)\n",
    "        for ax in fig.axes:\n",
    "            ax.legend()\n",
    "    return pd.concat(dfs)"
   ]
  },
  {
   "cell_type": "code",
   "execution_count": null,
   "metadata": {},
   "outputs": [],
   "source": [
    "mpp.mute = True"
   ]
  },
  {
   "cell_type": "code",
   "execution_count": null,
   "metadata": {
    "scrolled": true
   },
   "outputs": [],
   "source": [
    "run_and_plot_multi({\"level\":3, \n",
    "                      \"plevel\":3, \n",
    "                      \"space_deg\":1, \"time_deg\":1, \n",
    "                      \"refinement_steps\":4, \n",
    "                      \"vtkplot\":0, \n",
    "                      \"set_exact_soltion\":0,\n",
    "                      \"theta\":-1,\n",
    "                      \"Model\": \"STDGViscoAcousticAssemble\", \n",
    "                      \"nodalPoints\":[\"EQ\", \"GL\", \"GLGL\"]},\n",
    "                   title = \"Uniform P-Convergence DGT\",    \n",
    "                   host = hosts\n",
    "                  )"
   ]
  },
  {
   "cell_type": "code",
   "execution_count": null,
   "metadata": {
    "scrolled": true
   },
   "outputs": [],
   "source": [
    "run_and_plot_multi(kwargs= {\"level\":6, \n",
    "                      \"plevel\":3, \n",
    "                      \"space_deg\":1, \"time_deg\":1, \n",
    "                      \"refinement_steps\":0, \n",
    "                      \"vtkplot\":0, \n",
    "                      \"set_exact_soltion\":0,\n",
    "                      \"theta\":-1,\n",
    "                      \"Model\": \"STDGViscoAcousticAssemble\", \n",
    "                      \"nodalPoints\":[\"EQ\", \"GL\", \"GLGL\"]},\n",
    "              title = \"Uniform H-Convergence DGT\",\n",
    "              host = hosts)\n"
   ]
  },
  {
   "cell_type": "code",
   "execution_count": null,
   "metadata": {
    "scrolled": true
   },
   "outputs": [],
   "source": [
    "run_and_plot_multi(kwargs= {\"level\":3, \n",
    "                      \"plevel\":3, \n",
    "                      \"space_deg\":1, \"time_deg\":1, \n",
    "                      \"refinement_steps\":4, \n",
    "                      \"vtkplot\":0, \n",
    "                      \"set_exact_soltion\":0,\n",
    "                      \"theta\":0.6,\n",
    "                      \"Model\": \"STDGViscoAcousticAssemble\", \n",
    "                      \"nodalPoints\":[\"EQ\", \"GL\", \"GLGL\"]},\n",
    "              title = \"Adaptive P-Convergence DGT\",\n",
    "              host = hosts)"
   ]
  },
  {
   "cell_type": "code",
   "execution_count": null,
   "metadata": {},
   "outputs": [],
   "source": [
    "from vedo import *\n",
    "\n",
    "vol = load('build/data/vtk/P_0.vtk')\n",
    "vol2 = load('build/data/vtk/P_1.vtk')\n",
    "show(vol, at=0, shape=(1,1))"
   ]
  },
  {
   "cell_type": "code",
   "execution_count": null,
   "metadata": {},
   "outputs": [],
   "source": []
  },
  {
   "cell_type": "code",
   "execution_count": null,
   "metadata": {},
   "outputs": [],
   "source": []
  },
  {
   "cell_type": "code",
   "execution_count": null,
   "metadata": {},
   "outputs": [],
   "source": []
  },
  {
   "cell_type": "code",
   "execution_count": null,
   "metadata": {},
   "outputs": [],
   "source": []
  },
  {
   "cell_type": "code",
   "execution_count": null,
   "metadata": {},
   "outputs": [],
   "source": []
  },
  {
   "cell_type": "code",
   "execution_count": null,
   "metadata": {},
   "outputs": [],
   "source": []
  },
  {
   "cell_type": "code",
   "execution_count": null,
   "metadata": {},
   "outputs": [],
   "source": []
  },
  {
   "cell_type": "code",
   "execution_count": null,
   "metadata": {},
   "outputs": [],
   "source": []
  },
  {
   "cell_type": "code",
   "execution_count": null,
   "metadata": {},
   "outputs": [],
   "source": [
    "run_and_plot(kwargs= {\"level\":3, \n",
    "                      \"plevel\":3, \n",
    "                      \"space_deg\":1, \"time_deg\":1, \n",
    "                      \"refinement_steps\":4, \n",
    "                      \"vtkplot\":0, \n",
    "                      \"set_exact_soltion\":0,\n",
    "                      \"theta\":-1,\n",
    "                      \"Model\": \"STPGViscoAcousticAssemble\", \n",
    "                      \"nodalPoints\":\"EQ\",\n",
    "              title = \"Uniform P-Convergence Equidistant\",\n",
    "              host = hosts)"
   ]
  },
  {
   "cell_type": "code",
   "execution_count": null,
   "metadata": {},
   "outputs": [],
   "source": [
    "run_and_plot(kwargs= {\"level\":6, \n",
    "                      \"plevel\":3, \n",
    "                      \"space_deg\":1, \"time_deg\":1, \n",
    "                      \"refinement_steps\":0, \n",
    "                      \"vtkplot\":0, \n",
    "                      \"set_exact_soltion\":0,\n",
    "                      \"theta\":-1,\n",
    "                      \"Model\": \"STPGViscoAcousticAssemble\", \n",
    "                      \"nodalPoints\":\"EQ\"},\n",
    "              title = \"Uniform H-Convergence Equidistant\",\n",
    "              host = hosts)"
   ]
  },
  {
   "cell_type": "code",
   "execution_count": null,
   "metadata": {},
   "outputs": [],
   "source": [
    "run_and_plot(kwargs= {\"level\":3, \n",
    "                      \"plevel\":3, \n",
    "                      \"space_deg\":1, \"time_deg\":1, \n",
    "                      \"refinement_steps\":4, \n",
    "                      \"vtkplot\":0, \n",
    "                      \"set_exact_soltion\":0,\n",
    "                      \"theta\":-1,\n",
    "                      \"Model\": \"STDGViscoAcousticAssemble\", \n",
    "                      \"nodalPoints\":\"EQ\"},\n",
    "              title = \"Uniform P-Convergence DGT Equidistant\",\n",
    "              host = hosts)"
   ]
  }
 ],
 "metadata": {
  "kernelspec": {
   "display_name": "Python 3",
   "language": "python",
   "name": "python3"
  },
  "language_info": {
   "codemirror_mode": {
    "name": "ipython",
    "version": 3
   },
   "file_extension": ".py",
   "mimetype": "text/x-python",
   "name": "python",
   "nbconvert_exporter": "python",
   "pygments_lexer": "ipython3",
   "version": "3.8.10"
  }
 },
 "nbformat": 4,
 "nbformat_minor": 4
}
