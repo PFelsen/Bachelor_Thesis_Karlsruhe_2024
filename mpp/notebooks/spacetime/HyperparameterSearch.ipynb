{
 "cells": [
  {
   "cell_type": "code",
   "execution_count": null,
   "metadata": {},
   "outputs": [],
   "source": [
    "import sys\n",
    "import os\n",
    "sys.path.append('..')\n",
    "from mpp.python.mppy import mpp\n",
    "from tools.seismogram_lib import read_seismograms, plot_seismograms, calculate_rel_difference\n",
    "import re\n",
    "from copy import deepcopy\n",
    "import random"
   ]
  },
  {
   "cell_type": "code",
   "execution_count": null,
   "metadata": {},
   "outputs": [],
   "source": []
  },
  {
   "cell_type": "code",
   "execution_count": null,
   "metadata": {},
   "outputs": [],
   "source": [
    "mpp.build()"
   ]
  },
  {
   "cell_type": "raw",
   "metadata": {},
   "source": []
  },
  {
   "cell_type": "code",
   "execution_count": null,
   "metadata": {
    "scrolled": true
   },
   "outputs": [],
   "source": [
    "a = mpp.run_get_output(64, [\"marmousi2_ml\"])"
   ]
  },
  {
   "cell_type": "code",
   "execution_count": null,
   "metadata": {},
   "outputs": [],
   "source": [
    "print(a)"
   ]
  },
  {
   "cell_type": "code",
   "execution_count": null,
   "metadata": {},
   "outputs": [],
   "source": [
    "def parse_output(output):\n",
    "    result = {}\n",
    "    result[\"seismograms\"] = re.findall(\"write measure to (.*)\\n\", output)[-1].replace(\".000000\",\"\").replace(\"00000_\",\"_\")\n",
    "    result[\"duration\"], result[\"procs\"] = re.findall(\"end program after (.*) minutes on ([0-9]*) procs\", output)[0]\n",
    "    minutes, seconds = map(float,result[\"duration\"].split(\":\"))\n",
    "    result[\"time\"] = int(minutes*60+seconds)\n",
    "    \n",
    "    \n",
    "    \n",
    "    keylen = max(map(len,result.keys()))\n",
    "    \n",
    "    #for key, val in result.items():\n",
    "    #    print(key.ljust(keylen), \":\", val)\n",
    "    return result"
   ]
  },
  {
   "cell_type": "code",
   "execution_count": null,
   "metadata": {},
   "outputs": [],
   "source": [
    "parse_output(a)"
   ]
  },
  {
   "cell_type": "code",
   "execution_count": null,
   "metadata": {},
   "outputs": [],
   "source": [
    "class Variable:\n",
    "    def __init__(self, name, value, bounds, step):\n",
    "        self.name = name\n",
    "        self.value = value\n",
    "        self.bounds = bounds\n",
    "        self.step = step\n",
    "        self.history = [self.value]\n",
    "        \n",
    "    def decrease(self):       \n",
    "        value = self.value\n",
    "        if type(self.step) is int:\n",
    "            value -= self.step\n",
    "        if type(self.step) is float:\n",
    "            value *= self.step      \n",
    "        \n",
    "        self.value = max(value, self.bounds[0])\n",
    "        self.history.append(self.value)\n",
    "        \n",
    "    def randomize(self):\n",
    "        if type(self.step) is int:\n",
    "            self.value = random.randint(*self.bounds)\n",
    "        if type(self.step) is float:\n",
    "            self.value =  random.uniform(*self.bounds)      \n",
    "    \n",
    "    def __call__(self):\n",
    "        return self.name+ \"=\" + str(self.value)\n",
    "    \n",
    "        \n",
    "    def increase(self):\n",
    "        value = self.value\n",
    "        if type(self.step) is int:\n",
    "            value += self.step\n",
    "        if type(self.step) is float:\n",
    "            value /= self.step       \n",
    "        \n",
    "        self.value = min(value, self.bounds[1])\n",
    "        self.history.append(self.value)\n",
    "    \n",
    "    \n",
    "    def hist_back(self):\n",
    "        self.value = self.history.pop()\n",
    "        \n",
    "    \n",
    "    \n",
    "    def __str__(self):\n",
    "        return \"[{}, {}, {}, {}]\".format(self.name, self.value, self.bounds, self.step)\n",
    "    \n",
    "    def __repr__(self):\n",
    "        return str(self)\n",
    "    \n",
    "    def __eq__(self, other):\n",
    "        return self.value == other.value and self.name == other.name\n",
    "    \n",
    "    "
   ]
  },
  {
   "cell_type": "code",
   "execution_count": null,
   "metadata": {},
   "outputs": [],
   "source": []
  },
  {
   "cell_type": "code",
   "execution_count": null,
   "metadata": {},
   "outputs": [],
   "source": []
  },
  {
   "cell_type": "code",
   "execution_count": null,
   "metadata": {},
   "outputs": [],
   "source": []
  },
  {
   "cell_type": "code",
   "execution_count": null,
   "metadata": {},
   "outputs": [],
   "source": [
    "#results = []\n",
    "fields = [ Variable(\"SmootherDamp_space\", 1,[0.5,1], 0.97), \n",
    "           Variable(\"Presmoothing_space\", 1,[1,30], 3), \n",
    "           Variable(\"Postsmoothing_space\", 1,[1,30], 3), \n",
    "           Variable(\"SmootherDamp_time\", 1,[0.5,1], 0.97), \n",
    "           Variable(\"Presmoothing_time\", 1,[0,30], 3),           \n",
    "           Variable(\"Postsmoothing_time\", 1,[0,30], 3)\n",
    "         ]\n",
    "         \n",
    "\n",
    "\n",
    "best_time = 240\n",
    "best_config = deepcopy(fields)\n",
    "\n",
    "for i in range(200):\n",
    "    \n",
    "    #mutated = []\n",
    "    #while not mutated:\n",
    "    #    for f in fields:\n",
    "    #        if random.random() < 1/6:\n",
    "    #            mutated.append(f)                \n",
    "    #for m in mutated:\n",
    "    #    random.choice([f.increase, f.decrease])()\n",
    "    \n",
    "    #for f in fields:\n",
    "    #    f.randomize()\n",
    "    \n",
    "    params = [v() for v in fields]\n",
    "    \n",
    "    a = mpp.run_get_output(64, [\"marmousi2_ml\"]+params)\n",
    "    output = parse_output(a)\n",
    "    results.append((params,output, a))\n",
    "    \n",
    "    time = output[\"time\"]\n",
    "    \n",
    "    print(best_time, time, \" \".join(v() for v in fields))\n",
    "    \n",
    "    if time < best_time:\n",
    "        best_time = time\n",
    "        best_config = deepcopy(fields)\n",
    "    #else:\n",
    "    #    for m in mutated:\n",
    "    #        m.hist_back()\n",
    "    \n",
    "    "
   ]
  },
  {
   "cell_type": "code",
   "execution_count": null,
   "metadata": {},
   "outputs": [],
   "source": [
    "results[1][0::2]"
   ]
  },
  {
   "cell_type": "code",
   "execution_count": null,
   "metadata": {},
   "outputs": [],
   "source": [
    "s1 = \"data/s_ST_l_2_probl_2_sDeg_2_tDeg_2_nL_0_pml_0.000000_dt_16_adapt_0_tauz_0.000000_taup_0.100000_kapaf_1.100000_dgInTime\"\n",
    "s2 = \"data/s_ST_l_2_probl_2_sDeg_2_tDeg_2_nL_0_pml_0.000000_dt_16_adapt_0_tauz_0.000000_taup_0.100000_kapaf_1.050000_dgInTime\"\n",
    "files = [s1,s2]\n",
    "files = [\"../build/\"+l for l in files]\n",
    "seismograms,(d_min,d_max) = read_seismograms(files)\n",
    "import matplotlib.pyplot as plt\n",
    "plot_seismograms(seismograms, d_min, d_max,figsize=(20,20), xlim=(0,1.5))\n",
    "calculate_rel_difference(seismograms)\n",
    "\n",
    "#diff = seismograms[0]-seismograms[1]\n",
    "#import numpy as np\n",
    "#plot_seismograms([diff/np.max(np.abs(diff))],-1,1)"
   ]
  },
  {
   "cell_type": "code",
   "execution_count": null,
   "metadata": {},
   "outputs": [],
   "source": []
  },
  {
   "cell_type": "code",
   "execution_count": null,
   "metadata": {},
   "outputs": [],
   "source": []
  },
  {
   "cell_type": "code",
   "execution_count": null,
   "metadata": {},
   "outputs": [],
   "source": []
  },
  {
   "cell_type": "code",
   "execution_count": null,
   "metadata": {},
   "outputs": [],
   "source": []
  },
  {
   "cell_type": "code",
   "execution_count": null,
   "metadata": {},
   "outputs": [],
   "source": []
  },
  {
   "cell_type": "code",
   "execution_count": null,
   "metadata": {},
   "outputs": [],
   "source": []
  }
 ],
 "metadata": {
  "kernelspec": {
   "display_name": "Python 3",
   "language": "python",
   "name": "python3"
  },
  "language_info": {
   "codemirror_mode": {
    "name": "ipython",
    "version": 3
   },
   "file_extension": ".py",
   "mimetype": "text/x-python",
   "name": "python",
   "nbconvert_exporter": "python",
   "pygments_lexer": "ipython3",
   "version": "3.8.10"
  }
 },
 "nbformat": 4,
 "nbformat_minor": 4
}
