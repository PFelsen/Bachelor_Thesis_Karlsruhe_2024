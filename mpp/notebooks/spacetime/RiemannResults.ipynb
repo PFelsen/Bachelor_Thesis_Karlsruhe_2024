{
 "cells": [
  {
   "cell_type": "code",
   "execution_count": null,
   "metadata": {},
   "outputs": [],
   "source": [
    "import re\n",
    "import numpy as np\n",
    "import matplotlib.pyplot as plt\n",
    "import matplotlib.gridspec as grd\n",
    "\n",
    "\n",
    "\n",
    "def ll(fn):\n",
    "    with open(fn,\"r\") as f:\n",
    "        return f.read()"
   ]
  },
  {
   "cell_type": "code",
   "execution_count": null,
   "metadata": {},
   "outputs": [],
   "source": [
    "!pwd"
   ]
  },
  {
   "cell_type": "code",
   "execution_count": null,
   "metadata": {},
   "outputs": [],
   "source": [
    "log_unif = ll(\"../build/log/log\")"
   ]
  },
  {
   "cell_type": "code",
   "execution_count": null,
   "metadata": {},
   "outputs": [],
   "source": []
  },
  {
   "cell_type": "code",
   "execution_count": null,
   "metadata": {},
   "outputs": [],
   "source": [
    "print(log_ad)"
   ]
  },
  {
   "cell_type": "code",
   "execution_count": null,
   "metadata": {},
   "outputs": [],
   "source": [
    "log_ad = log\n"
   ]
  },
  {
   "cell_type": "code",
   "execution_count": null,
   "metadata": {},
   "outputs": [],
   "source": [
    "raw_adapt = raw"
   ]
  },
  {
   "cell_type": "code",
   "execution_count": null,
   "metadata": {},
   "outputs": [],
   "source": [
    "raw = log.split(\"space-time DoFs\")[-1].split(\"\\n\")"
   ]
  },
  {
   "cell_type": "code",
   "execution_count": null,
   "metadata": {},
   "outputs": [],
   "source": [
    "\n",
    "def parse_error(log):\n",
    "    raw = log.split(\"space-time DoFs\")[-1].split(\"\\n\")\n",
    "    for line in range(len(raw)):\n",
    "        for i in range(10):\n",
    "            raw[line] = raw[line].replace(\"  \", \" \").strip()\n",
    "    dofs = list(map(int, raw[0].split(\" \")))\n",
    "\n",
    "    errors = {\"W_Error\":[], \"V_Error\":[], \"L2_Error\":[], \"L2_int_Error\":[], \"GN_Error\":[]}\n",
    "    for k in errors:\n",
    "        lines = [r for r in raw if k in r]\n",
    "        errors[k].extend(map(float, lines[0].split(\" \")[1:]))\n",
    "    errors[\"dofs\"] = np.array(dofs)\n",
    "    return errors"
   ]
  },
  {
   "cell_type": "code",
   "execution_count": null,
   "metadata": {},
   "outputs": [],
   "source": [
    "errors_ad = parse_error(log_ad)\n",
    "errors_unif = parse_error(log_unif)"
   ]
  },
  {
   "cell_type": "code",
   "execution_count": null,
   "metadata": {},
   "outputs": [],
   "source": [
    "# add axes\n",
    "fig1 = plt.figure(1, figsize=(15,10))\n",
    "gs = grd.GridSpec(3, 2, wspace=0.3)\n",
    "\n",
    "for gl, en in zip(gs,[\"W_Error\",\"V_Error\",\"L2_Error\", \"L2_int_Error\", \"GN_Error\"]):\n",
    "    \n",
    "    plt.subplot(gl)\n",
    "    \n",
    "    deg = np.arange(1,len(errors_ad[en])+1)\n",
    "    plt.loglog(deg,errors_ad[en], label=en+\" adaptive\", marker=\"x\")\n",
    "    plt.loglog(deg,deg**-0.5*errors_ad[en][0], ls=\"--\", color=\"black\")\n",
    "    deg = np.arange(1,len(error_unif[en])+1)\n",
    "    plt.loglog(deg,errors_unif[en], label=en+\" uniform\", marker=\"x\")\n",
    "    plt.legend()\n",
    "    plt.gca().xaxis.set_scientific(False)\n",
    "plt.savefig(\"Errors.pdf\")"
   ]
  },
  {
   "cell_type": "code",
   "execution_count": null,
   "metadata": {},
   "outputs": [],
   "source": [
    "errors_ad[\"dofs\"]"
   ]
  },
  {
   "cell_type": "code",
   "execution_count": null,
   "metadata": {},
   "outputs": [],
   "source": [
    "fig1 = plt.figure(1, figsize=(15,10))\n",
    "gs = grd.GridSpec(3, 2, wspace=0.3)\n",
    "\n",
    "for gl, en in zip(gs,[\"W_Error\",\"V_Error\",\"L2_Error\", \"L2_int_Error\", \"GN_Error\"]):\n",
    "    plt.subplot(gl)\n",
    "    deg = np.arange(1,len(errors_ad[en])+1)\n",
    "    plt.loglog(errors_ad[\"dofs\"],errors_ad[en], label=en+\" adaptive\", marker=\"x\")\n",
    "    deg = np.arange(1,len(error_unif[en])+1)\n",
    "    plt.loglog(errors_unif[\"dofs\"],errors_unif[en], label=en+\" uniform\", marker=\"x\")\n",
    "    plt.legend()"
   ]
  },
  {
   "cell_type": "code",
   "execution_count": null,
   "metadata": {},
   "outputs": [],
   "source": [
    "def f(x):\n",
    "    x = np.array(x)\n",
    "    x[x==0] = 1\n",
    "    xe = x/np.abs(x)\n",
    "    if len(np.where(x==0)[0]):\n",
    "        xe[x == 0] = 0\n",
    "    return xe"
   ]
  },
  {
   "cell_type": "code",
   "execution_count": null,
   "metadata": {},
   "outputs": [],
   "source": []
  },
  {
   "cell_type": "code",
   "execution_count": null,
   "metadata": {},
   "outputs": [],
   "source": [
    "from scipy.interpolate import lagrange as lagr\n",
    "from numpy.polynomial.polynomial import Polynomial\n",
    "\n",
    "x_r,h = np.linspace(-1,1,1000, retstep=True)\n",
    "plt.plot(x_r,f(x_r), label = \"exact\")\n",
    "def gg(d):\n",
    "\n",
    "    x = np.linspace(-1,1,d)\n",
    "\n",
    "    \n",
    "    #plt.plot(x_r,f(x_r), label = \"exact\")\n",
    "    #plt.scatter(x,f(x), marker=\"x\", label = \"nodal\")\n",
    "    #print(x,f(x), \"#\")\n",
    "    inte = lagr(x,f(x))\n",
    "    #print(inte)\n",
    "    interp = [inte(x) for x in x_r]\n",
    "    s = 0\n",
    "    plt.plot(x_r,interp)\n",
    "    for xx in x_r:\n",
    "        #print(xx, f(xx)-inte(xx))\n",
    "        s+= h*np.abs(f(xx)-inte(xx))**2\n",
    "    return s\n",
    "    #print(s)\n",
    "    \n"
   ]
  },
  {
   "cell_type": "code",
   "execution_count": null,
   "metadata": {},
   "outputs": [],
   "source": [
    "xx = np.array([0,1,2,3,4,5,6,7,8,9,10])\n",
    "yy = np.array([gg(x) for x in xx])\n",
    "plt.ylim((-1.25,1.25))"
   ]
  },
  {
   "cell_type": "code",
   "execution_count": null,
   "metadata": {},
   "outputs": [],
   "source": []
  },
  {
   "cell_type": "code",
   "execution_count": null,
   "metadata": {},
   "outputs": [],
   "source": [
    "plt.plot(xx[::2], yy[::2], marker=\"x\")\n",
    "plt.plot(xx[2::2],np.array(xx[2::2]+1,dtype=np.float)**(-1))"
   ]
  },
  {
   "cell_type": "code",
   "execution_count": null,
   "metadata": {},
   "outputs": [],
   "source": []
  },
  {
   "cell_type": "code",
   "execution_count": null,
   "metadata": {},
   "outputs": [],
   "source": []
  }
 ],
 "metadata": {
  "kernelspec": {
   "display_name": "Python 3",
   "language": "python",
   "name": "python3"
  },
  "language_info": {
   "codemirror_mode": {
    "name": "ipython",
    "version": 3
   },
   "file_extension": ".py",
   "mimetype": "text/x-python",
   "name": "python",
   "nbconvert_exporter": "python",
   "pygments_lexer": "ipython3",
   "version": "3.8.10"
  }
 },
 "nbformat": 4,
 "nbformat_minor": 4
}
