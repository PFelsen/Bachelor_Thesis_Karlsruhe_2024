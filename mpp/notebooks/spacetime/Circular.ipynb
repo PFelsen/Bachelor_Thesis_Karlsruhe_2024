{
 "cells": [
  {
   "cell_type": "markdown",
   "metadata": {},
   "source": [
    "<font size=\"6\">**CircularInclusion-problem for acoustics**</font>\n",
    "$$\n",
    "\\partial_t p = \\text{div} \\mathbf{v} \\\\ \n",
    "\\partial_t \\mathbf{v} = \\nabla p \n",
    "$$"
   ]
  },
  {
   "cell_type": "code",
   "execution_count": null,
   "metadata": {},
   "outputs": [],
   "source": [
    "!git pull\n",
    "!git submodule update"
   ]
  },
  {
   "cell_type": "code",
   "execution_count": null,
   "metadata": {},
   "outputs": [],
   "source": [
    "import os\n",
    "import matplotlib.pyplot as plt\n",
    "import numpy as np\n",
    "import matplotlib as mpl\n",
    "import matplotlib.gridspec as grd\n",
    "import itertools as it\n",
    "import re\n",
    "import pickle\n",
    "from collections import defaultdict\n",
    "import itertools\n",
    "import pandas as pd\n",
    "\n",
    "if not os.getcwd().endswith(\"spacetimeproject\"):\n",
    "    os.chdir(\"..\")\n",
    "    print(os.getcwd())\n",
    "from mpp.python.mppy.mppy import Mpp\n",
    "\n",
    "mpp = Mpp(project_name=\"spacetimeproject\")\n",
    "\n",
    "print(\"Project:\", mpp.dm.PROJECT_ROOT_DIR)\n",
    "print(\"MPP:\", mpp.dm.MPP_ROOT_DIR)\n",
    "mpl.rcParams['figure.figsize'] = (15, 10)"
   ]
  },
  {
   "cell_type": "code",
   "execution_count": null,
   "metadata": {},
   "outputs": [],
   "source": [
    "mpp.build()"
   ]
  },
  {
   "cell_type": "code",
   "execution_count": null,
   "metadata": {},
   "outputs": [],
   "source": [
    "hosts = {8:64,9:64}"
   ]
  },
  {
   "cell_type": "code",
   "execution_count": null,
   "metadata": {},
   "outputs": [],
   "source": []
  },
  {
   "cell_type": "code",
   "execution_count": null,
   "metadata": {},
   "outputs": [],
   "source": [
    "def run_and_plot(kwargs, title, host, fig = None, val = \"\"):\n",
    "    mpp.reset_data()\n",
    "    mpp.run(host, \"circularInclusion\", kwargs)\n",
    "    mpp.parse_log()\n",
    "    errs = [[\"L1_Error\", \"L2_Error\", \"LInf_Error\"], [\"L1_int_Error\", \"L2_int_Error\", \"LInf_int_Error\"]]\n",
    "    plt.rcParams['figure.figsize'] = [15, 5]\n",
    "    shape = (2,len(errs[0]))\n",
    "    if fig:\n",
    "        if not fig.axes:\n",
    "            axs = fig.subplots(*shape)\n",
    "        else:\n",
    "            axs = np.array(fig.axes).reshape(shape)\n",
    "    else:\n",
    "        fig, axs = plt.subplots(*shape)\n",
    "    \n",
    "    fig.suptitle(title, fontsize=15)\n",
    "    for e1, row in zip(errs,axs):\n",
    "        for err, ax in zip(e1, row):\n",
    "            e = mpp.data[err][0]\n",
    "            ax.set_title(err)\n",
    "            ax.semilogy(e, marker=\"x\", label=val)\n",
    "\n",
    "    fig.tight_layout()\n",
    "    fig.subplots_adjust(top=0.85)\n",
    "    #fig.legend()\n",
    "    cols = errs[0]+errs[1] + [\"L1_Error_Rate\", \"L2_Error_Rate\", \"LInf_Error_Rate\"]\n",
    "    g = [mpp.data.get(name, [[0]])[0] for name in cols]\n",
    "    dat = list(map(list, itertools.zip_longest(*g, fillvalue=0)))\n",
    "    if val:\n",
    "        cols = [c + \"_\"+ val for c in cols]\n",
    "    return pd.DataFrame(dat, columns=cols).transpose()"
   ]
  },
  {
   "cell_type": "code",
   "execution_count": null,
   "metadata": {},
   "outputs": [],
   "source": [
    "def run_and_plot_multi(kwargs, title, host):\n",
    "    ls = [(arg, val) for arg, val in kwargs.items() if type(val) == list]\n",
    "    print(ls)\n",
    "    dfs = []\n",
    "    if ls:\n",
    "        arg = ls[0][0]\n",
    "        fig = plt.figure()\n",
    "        for val in ls[0][1]:            \n",
    "            kwargs[arg] = val            \n",
    "            df = run_and_plot(kwargs, title, host, fig=fig, val=val)\n",
    "            dfs.append(df)\n",
    "        for ax in fig.axes:\n",
    "            ax.legend()\n",
    "    return pd.concat(dfs)"
   ]
  },
  {
   "cell_type": "code",
   "execution_count": null,
   "metadata": {},
   "outputs": [],
   "source": [
    "mpp.mute = True"
   ]
  },
  {
   "cell_type": "code",
   "execution_count": null,
   "metadata": {
    "scrolled": true
   },
   "outputs": [],
   "source": [
    "run_and_plot_multi({\"level\":3, \n",
    "                      \"plevel\":3, \n",
    "                      \"space_deg\":1, \"time_deg\":1, \n",
    "                      \"refinement_steps\":4, \n",
    "                      \"vtkplot\":0, \n",
    "                      \"set_exact_soltion\":0,\n",
    "                      \"theta\":-1,\n",
    "                      \"Model\": \"STDGViscoAcousticAssemble\", \n",
    "                      \"nodalPoints\":[\"EQ\", \"GL\", \"GLGL\"]},\n",
    "                   title = \"Uniform P-Convergence DGT\",    \n",
    "                   host = hosts\n",
    "                  )"
   ]
  },
  {
   "cell_type": "code",
   "execution_count": null,
   "metadata": {
    "scrolled": true
   },
   "outputs": [],
   "source": [
    "run_and_plot_multi(kwargs= {\"level\":6, \n",
    "                      \"plevel\":3, \n",
    "                      \"space_deg\":1, \"time_deg\":1, \n",
    "                      \"refinement_steps\":0, \n",
    "                      \"vtkplot\":0, \n",
    "                      \"set_exact_soltion\":0,\n",
    "                      \"theta\":-1,\n",
    "                      \"Model\": \"STDGViscoAcousticAssemble\", \n",
    "                      \"nodalPoints\":[\"EQ\", \"GL\", \"GLGL\"]},\n",
    "              title = \"Uniform H-Convergence DGT\",\n",
    "              host = hosts)\n"
   ]
  },
  {
   "cell_type": "code",
   "execution_count": null,
   "metadata": {
    "scrolled": true
   },
   "outputs": [],
   "source": [
    "run_and_plot_multi(kwargs= {\"level\":3, \n",
    "                      \"plevel\":3, \n",
    "                      \"space_deg\":1, \"time_deg\":1, \n",
    "                      \"refinement_steps\":3, \n",
    "                      \"vtkplot\":0, \n",
    "                      \"set_exact_soltion\":0,\n",
    "                      \"theta\":0.6,\n",
    "                      \"Model\": \"STDGViscoAcousticAssemble\", \n",
    "                      \"nodalPoints\":[\"EQ\", \"GL\", \"GLGL\"]},\n",
    "              title = \"Adaptive P-Convergence DGT\",\n",
    "              host = hosts)"
   ]
  },
  {
   "cell_type": "code",
   "execution_count": null,
   "metadata": {},
   "outputs": [],
   "source": [
    "import tools.seismogram_lib as seislib"
   ]
  },
  {
   "cell_type": "code",
   "execution_count": null,
   "metadata": {},
   "outputs": [],
   "source": [
    "ss = [\"s_ST_l_6_probl_3_sDeg_1_tDeg_1_nL_0_pml_0.000000_dt_16_adapt_0_tauz_0.000000_taup_0.100000_kapaf_1.000000_dgInTime\",\n",
    "      \"s_ST_l_6_probl_3_sDeg_1_tDeg_1_nL_0_pml_0.000000_dt_32_adapt_0_tauz_0.000000_taup_0.100000_kapaf_1.000000_dgInTime\",\n",
    "      \"s_ST_l_6_probl_3_sDeg_1_tDeg_1_nL_0_pml_0.000000_dt_64_adapt_0_tauz_0.000000_taup_0.100000_kapaf_1.000000_dgInTime\",\n",
    "     \"s_ST_l_6_probl_3_sDeg_1_tDeg_1_nL_0_pml_0.000000_dt_128_adapt_0_tauz_0.000000_taup_0.100000_kapaf_1.000000_dgInTime\"]\n",
    "seismograms,(d_min,d_max) = seislib.read_seismograms([\"build/data/\"+k for k in ss], r_step=1)\n",
    "seislib.show_differences(seismograms, \"rel\", 0, 1.5)\n",
    "seislib.plot_seismograms(seismograms, d_min, d_max)"
   ]
  },
  {
   "cell_type": "code",
   "execution_count": null,
   "metadata": {},
   "outputs": [],
   "source": []
  },
  {
   "cell_type": "code",
   "execution_count": null,
   "metadata": {},
   "outputs": [],
   "source": []
  },
  {
   "cell_type": "code",
   "execution_count": null,
   "metadata": {},
   "outputs": [],
   "source": []
  },
  {
   "cell_type": "code",
   "execution_count": null,
   "metadata": {},
   "outputs": [],
   "source": [
    "from vedo import *\n",
    "\n",
    "vol = load('build/data/vtk/P_0.vtk')\n",
    "vol2 = load('build/data/vtk/P_1.vtk')"
   ]
  },
  {
   "cell_type": "code",
   "execution_count": null,
   "metadata": {},
   "outputs": [],
   "source": [
    "show(vol, at=0, shape=(1,1))"
   ]
  },
  {
   "cell_type": "code",
   "execution_count": null,
   "metadata": {},
   "outputs": [],
   "source": [
    "show?"
   ]
  },
  {
   "cell_type": "code",
   "execution_count": null,
   "metadata": {},
   "outputs": [],
   "source": [
    "!jupyter nbextension enable --py --sys-prefix k3d"
   ]
  },
  {
   "cell_type": "code",
   "execution_count": null,
   "metadata": {},
   "outputs": [],
   "source": [
    "1+1"
   ]
  },
  {
   "cell_type": "code",
   "execution_count": null,
   "metadata": {},
   "outputs": [],
   "source": [
    "!pdetop"
   ]
  },
  {
   "cell_type": "code",
   "execution_count": null,
   "metadata": {},
   "outputs": [],
   "source": [
    "run_and_plot(kwargs= {\"level\":3, \n",
    "                      \"plevel\":3, \n",
    "                      \"space_deg\":1, \"time_deg\":1, \n",
    "                      \"refinement_steps\":4, \n",
    "                      \"vtkplot\":0, \n",
    "                      \"set_exact_soltion\":0,\n",
    "                      \"theta\":-1,\n",
    "                      \"Model\": \"STPGViscoAcousticAssemble\", \n",
    "                      \"nodalPoints\":\"EQ\",\n",
    "              title = \"Uniform P-Convergence Equidistant\",\n",
    "              host = hosts)"
   ]
  },
  {
   "cell_type": "code",
   "execution_count": null,
   "metadata": {},
   "outputs": [],
   "source": [
    "run_and_plot(kwargs= {\"level\":6, \n",
    "                      \"plevel\":3, \n",
    "                      \"space_deg\":1, \"time_deg\":1, \n",
    "                      \"refinement_steps\":0, \n",
    "                      \"vtkplot\":0, \n",
    "                      \"set_exact_soltion\":0,\n",
    "                      \"theta\":-1,\n",
    "                      \"Model\": \"STPGViscoAcousticAssemble\", \n",
    "                      \"nodalPoints\":\"EQ\"},\n",
    "              title = \"Uniform H-Convergence Equidistant\",\n",
    "              host = hosts)"
   ]
  },
  {
   "cell_type": "code",
   "execution_count": null,
   "metadata": {},
   "outputs": [],
   "source": [
    "run_and_plot(kwargs= {\"level\":3, \n",
    "                      \"plevel\":3, \n",
    "                      \"space_deg\":1, \"time_deg\":1, \n",
    "                      \"refinement_steps\":4, \n",
    "                      \"vtkplot\":0, \n",
    "                      \"set_exact_soltion\":0,\n",
    "                      \"theta\":-1,\n",
    "                      \"Model\": \"STDGViscoAcousticAssemble\", \n",
    "                      \"nodalPoints\":\"EQ\"},\n",
    "              title = \"Uniform P-Convergence DGT Equidistant\",\n",
    "              host = hosts)"
   ]
  }
 ],
 "metadata": {
  "kernelspec": {
   "display_name": "Python 3",
   "language": "python",
   "name": "python3"
  },
  "language_info": {
   "codemirror_mode": {
    "name": "ipython",
    "version": 3
   },
   "file_extension": ".py",
   "mimetype": "text/x-python",
   "name": "python",
   "nbconvert_exporter": "python",
   "pygments_lexer": "ipython3",
   "version": "3.8.10"
  }
 },
 "nbformat": 4,
 "nbformat_minor": 4
}
