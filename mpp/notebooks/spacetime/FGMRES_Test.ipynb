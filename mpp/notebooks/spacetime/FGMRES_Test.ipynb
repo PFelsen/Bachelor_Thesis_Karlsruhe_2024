{
 "cells": [
  {
   "cell_type": "code",
   "execution_count": null,
   "metadata": {},
   "outputs": [],
   "source": [
    "import sys\n",
    "import os\n",
    "sys.path.append('..')\n",
    "from mpp.python.mppy import mpp\n",
    "import re\n",
    "from concurrent.futures import ThreadPoolExecutor"
   ]
  },
  {
   "cell_type": "code",
   "execution_count": null,
   "metadata": {},
   "outputs": [],
   "source": [
    "runs = []"
   ]
  },
  {
   "cell_type": "code",
   "execution_count": null,
   "metadata": {},
   "outputs": [],
   "source": [
    "mpp.mute = False\n",
    "mpp.build()"
   ]
  },
  {
   "cell_type": "code",
   "execution_count": null,
   "metadata": {},
   "outputs": [],
   "source": [
    "class Run:\n",
    "    data = property()\n",
    "    def __init__(self, kwargs, log):\n",
    "        self.kwargs = kwargs\n",
    "        self.log = log\n",
    "        \n",
    "    @data.getter\n",
    "    def data(self):\n",
    "        log = self.log\n",
    "        try:\n",
    "            seconds = float(re.findall(\"end program after (.*) seconds\",log)[0])\n",
    "        except:\n",
    "            times = re.findall(\"end program after (.*):(.*)\\..* minutes\",log)[0]\n",
    "            seconds = int(times[0])*60 + int(times[1])\n",
    "        data = {\n",
    "            \"seconds\" : seconds,\n",
    "        }\n",
    "        return data"
   ]
  },
  {
   "cell_type": "code",
   "execution_count": null,
   "metadata": {},
   "outputs": [],
   "source": [
    "def runit(procs, kwargs):\n",
    "    code = mpp.run(procs, \"fgmres\", kwargs)\n",
    "    print(code)\n",
    "    log = \"\".join(mpp.read_log())\n",
    "    r = Run(kwargs, log)\n",
    "    runs.append(r)\n",
    "    return r"
   ]
  },
  {
   "cell_type": "code",
   "execution_count": null,
   "metadata": {},
   "outputs": [],
   "source": [
    "kwargs =    {\"space_deg\":1, \n",
    "              \"time_deg\":1, \n",
    "              \"fgmres\":1, \n",
    "              \"Presmoothing_space\":1,\n",
    "              \"Postsmoothing_space\":1,\n",
    "              \"Presmoothing_time\":10,\n",
    "              \"Postsmoothing_time\":10, \n",
    "              \"LinearSolver\":\"GMRES\",\n",
    "              \"Preconditioner2\":\"none\"\n",
    "             }\n",
    "runs.append(runit(32,kwargs))"
   ]
  },
  {
   "cell_type": "code",
   "execution_count": null,
   "metadata": {},
   "outputs": [],
   "source": [
    "\n",
    "for smoothing in range(2,11,3):\n",
    "    for fgmres in range(1,10):\n",
    "        kwargs = {\"space_deg\":2, \n",
    "                  \"time_deg\":2, \n",
    "                  \"fgmres\":fgmres, \n",
    "                  \"Presmoothing_space\":1,\n",
    "                  \"Postsmoothing_space\":1,\n",
    "                  \"Presmoothing_time\":smoothing,\n",
    "                  \"Postsmoothing_time\":smoothing             \n",
    "                 }\n",
    "\n",
    "        r = runit(64, kwargs)\n",
    "        try:\n",
    "            print(r.data)\n",
    "        except: pass"
   ]
  },
  {
   "cell_type": "code",
   "execution_count": null,
   "metadata": {},
   "outputs": [],
   "source": [
    "print(\"fgmres\".center(10), \"preSmoothTime\".center(15),\"postSmoothTime\".center(15), \"time\".center(7))\n",
    "for r in sorted(runs,key=lambda x:x.data[\"seconds\"]):\n",
    "    print(str(r.kwargs[\"fgmres\"]).center(10), \n",
    "          str(r.kwargs[\"Presmoothing_time\"]).center(15), \n",
    "          str(r.kwargs[\"Postsmoothing_time\"]).center(15),\n",
    "          str(r.data[\"seconds\"]).center(7))"
   ]
  },
  {
   "cell_type": "code",
   "execution_count": null,
   "metadata": {},
   "outputs": [],
   "source": [
    "print(\"..\")\n"
   ]
  },
  {
   "cell_type": "code",
   "execution_count": null,
   "metadata": {},
   "outputs": [],
   "source": [
    "runs[-1].log"
   ]
  },
  {
   "cell_type": "code",
   "execution_count": null,
   "metadata": {},
   "outputs": [],
   "source": []
  }
 ],
 "metadata": {
  "kernelspec": {
   "display_name": "Python 3",
   "language": "python",
   "name": "python3"
  },
  "language_info": {
   "codemirror_mode": {
    "name": "ipython",
    "version": 3
   },
   "file_extension": ".py",
   "mimetype": "text/x-python",
   "name": "python",
   "nbconvert_exporter": "python",
   "pygments_lexer": "ipython3",
   "version": "3.8.10"
  }
 },
 "nbformat": 4,
 "nbformat_minor": 2
}
