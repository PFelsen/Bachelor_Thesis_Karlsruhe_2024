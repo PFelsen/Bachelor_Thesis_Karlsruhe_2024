{
 "cells": [
  {
   "cell_type": "code",
   "execution_count": null,
   "metadata": {},
   "outputs": [],
   "source": [
    "import os\n",
    "import matplotlib.pyplot as plt\n",
    "import numpy as np\n",
    "import matplotlib.gridspec as grd\n",
    "import itertools as it\n",
    "import re\n",
    "import vtk\n",
    "import pickle\n",
    "from itkwidgets import view\n",
    "from ipywidgets import interactive, Layout\n",
    "import ipywidgets as widgets\n",
    "from collections import defaultdict\n",
    "\n",
    "import pyvista as pv\n",
    "\n",
    "if not os.getcwd().endswith(\"spacetimeproject\"):\n",
    "    os.chdir(\"..\")\n",
    "    print(os.getcwd())\n",
    "from mpp.python.mppy.mppy import Mpp\n",
    "\n",
    "mpp = Mpp()"
   ]
  },
  {
   "cell_type": "code",
   "execution_count": null,
   "metadata": {},
   "outputs": [],
   "source": [
    "reader = vtk.vtkUnstructuredGridReader()\n",
    "reader.SetFileName(\"build/data/vtk/P_4.vtk\")\n",
    "reader.Update()\n",
    "grid = reader.GetOutput()"
   ]
  },
  {
   "cell_type": "code",
   "execution_count": null,
   "metadata": {},
   "outputs": [],
   "source": [
    "plane=vtk.vtkPlane()\n",
    "plane.SetNormal(0,0,-1)\n",
    "plane.SetOrigin(0,0,0.5)   \n",
    "\n",
    "\n",
    "cds = vtk.vtkClipDataSet()\n",
    "cds.SetClipFunction(plane)\n",
    "cds.SetInputData(grid)\n",
    "cds.InsideOutOn()\n",
    "cds.GenerateClippedOutputOn()\n",
    "cds.Update()"
   ]
  },
  {
   "cell_type": "code",
   "execution_count": null,
   "metadata": {},
   "outputs": [],
   "source": []
  },
  {
   "cell_type": "code",
   "execution_count": null,
   "metadata": {},
   "outputs": [],
   "source": [
    "plane.SetOrigin(0,0,0.5)  \n",
    "cds.Update()\n",
    "viewer = view(geometries = cds.GetOutputDataObject(0))\n",
    "def upd(time = 1):  \n",
    "    plane.SetOrigin(0,0,time/100*4.0)   \n",
    "    cds.Update()\n",
    "    print(\"time\", time)\n",
    "    if cds.GetOutputDataObject(0).GetNumberOfCells():\n",
    "        viewer.geometries = cds.GetOutputDataObject(0)\n",
    "    \n",
    "    \n",
    "    \n",
    "play = widgets.Play(\n",
    "    interval=100,\n",
    "    value=1,\n",
    "    min=1,\n",
    "    max=100,\n",
    "    step=1,\n",
    "    description=\"Press play\",\n",
    "    disabled=False\n",
    ")\n",
    "slider_o = widgets.IntSlider(min=1, max=100, step=1, value=1)\n",
    "slider = interactive(upd, time=slider_o, continuous_update=False)\n",
    "widgets.jslink((play, 'value'), (slider_o, 'value'))\n",
    "widgets.VBox([viewer, widgets.HBox([play, slider])])"
   ]
  },
  {
   "cell_type": "code",
   "execution_count": null,
   "metadata": {},
   "outputs": [],
   "source": [
    "\n",
    "\n"
   ]
  },
  {
   "cell_type": "code",
   "execution_count": null,
   "metadata": {},
   "outputs": [],
   "source": []
  },
  {
   "cell_type": "code",
   "execution_count": null,
   "metadata": {},
   "outputs": [],
   "source": []
  },
  {
   "cell_type": "code",
   "execution_count": null,
   "metadata": {},
   "outputs": [],
   "source": []
  },
  {
   "cell_type": "code",
   "execution_count": null,
   "metadata": {},
   "outputs": [],
   "source": []
  },
  {
   "cell_type": "code",
   "execution_count": null,
   "metadata": {},
   "outputs": [],
   "source": []
  },
  {
   "cell_type": "code",
   "execution_count": null,
   "metadata": {
    "scrolled": false
   },
   "outputs": [],
   "source": []
  },
  {
   "cell_type": "code",
   "execution_count": null,
   "metadata": {},
   "outputs": [],
   "source": [
    "cutter.GetOutputDataObject?\n"
   ]
  },
  {
   "cell_type": "code",
   "execution_count": null,
   "metadata": {},
   "outputs": [],
   "source": []
  },
  {
   "cell_type": "code",
   "execution_count": null,
   "metadata": {},
   "outputs": [],
   "source": [
    "\n",
    "dir(slider)\n",
    "\n"
   ]
  },
  {
   "cell_type": "code",
   "execution_count": null,
   "metadata": {},
   "outputs": [],
   "source": [
    "\n",
    "\n",
    "\n"
   ]
  },
  {
   "cell_type": "code",
   "execution_count": null,
   "metadata": {},
   "outputs": [],
   "source": []
  },
  {
   "cell_type": "code",
   "execution_count": null,
   "metadata": {},
   "outputs": [],
   "source": []
  }
 ],
 "metadata": {
  "kernelspec": {
   "display_name": "Python 3",
   "language": "python",
   "name": "python3"
  },
  "language_info": {
   "codemirror_mode": {
    "name": "ipython",
    "version": 3
   },
   "file_extension": ".py",
   "mimetype": "text/x-python",
   "name": "python",
   "nbconvert_exporter": "python",
   "pygments_lexer": "ipython3",
   "version": "3.8.10"
  }
 },
 "nbformat": 4,
 "nbformat_minor": 4
}
