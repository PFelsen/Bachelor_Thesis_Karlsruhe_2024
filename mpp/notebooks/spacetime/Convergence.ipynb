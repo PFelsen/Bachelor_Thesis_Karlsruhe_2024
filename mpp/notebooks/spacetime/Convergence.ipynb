{
 "cells": [
  {
   "cell_type": "code",
   "execution_count": null,
   "metadata": {},
   "outputs": [],
   "source": [
    "import re\n",
    "import matplotlib.pyplot as plt"
   ]
  },
  {
   "cell_type": "code",
   "execution_count": null,
   "metadata": {},
   "outputs": [],
   "source": []
  },
  {
   "cell_type": "code",
   "execution_count": null,
   "metadata": {},
   "outputs": [],
   "source": [
    "def read_log(log):\n",
    "    with open(log, \"r\") as f:\n",
    "        k = f.read()\n",
    "    its = [[]]\n",
    "    for n in re.findall(\"FGMRES: d\\(\\d*\\)= (.*)\",k):\n",
    "        its[-1].append(n)\n",
    "        if \"rate\" in n:\n",
    "            its.append([])\n",
    "    its = its[0],its[1]\n",
    "    its = [[float(h) for h in g if \"rate\" not in h] for g in its]\n",
    "    return its"
   ]
  },
  {
   "cell_type": "code",
   "execution_count": null,
   "metadata": {},
   "outputs": [],
   "source": [
    "its0 = read_log(\"../spacetimeproject/build/log/log.21-02-03-12:18:47\")\n",
    "plt.semilogy(range(len(its0[0])),its0[0])\n",
    "plt.semilogy(range(len(its0[1])),its0[1])"
   ]
  },
  {
   "cell_type": "code",
   "execution_count": null,
   "metadata": {},
   "outputs": [],
   "source": [
    "its = read_log(\"../spacetimeproject/build/log/log\")\n",
    "plt.semilogy(range(len(its[0])),its[0])\n",
    "plt.semilogy(range(len(its0[1])),its0[1])\n",
    "plt.semilogy(range(len(its[1])),its[1])"
   ]
  },
  {
   "cell_type": "code",
   "execution_count": null,
   "metadata": {},
   "outputs": [],
   "source": []
  },
  {
   "cell_type": "code",
   "execution_count": null,
   "metadata": {},
   "outputs": [],
   "source": []
  },
  {
   "cell_type": "code",
   "execution_count": null,
   "metadata": {},
   "outputs": [],
   "source": []
  },
  {
   "cell_type": "code",
   "execution_count": null,
   "metadata": {},
   "outputs": [],
   "source": []
  },
  {
   "cell_type": "code",
   "execution_count": null,
   "metadata": {},
   "outputs": [],
   "source": [
    "its = read_log(\"../spacetimeproject/build/log/log\")\n",
    "plt.semilogy(range(len(its[0])),its[0])\n",
    "plt.semilogy(range(len(its[1])),its[1])\n",
    "plt.semilogy(range(len(its0[1])),its0[1])"
   ]
  },
  {
   "cell_type": "code",
   "execution_count": null,
   "metadata": {},
   "outputs": [],
   "source": [
    "its2 = read_log(\"../spacetimeproject/build/log/log\")\n",
    "plt.semilogy(range(len(its2[0])),its2[0])\n",
    "plt.semilogy(range(len(its2[1])),its2[1])\n",
    "plt.semilogy(range(len(its0[1])),its0[1])\n"
   ]
  },
  {
   "cell_type": "code",
   "execution_count": null,
   "metadata": {},
   "outputs": [],
   "source": [
    "\n"
   ]
  },
  {
   "cell_type": "code",
   "execution_count": null,
   "metadata": {},
   "outputs": [],
   "source": [
    "import sys\n",
    "import numpy as np\n",
    "import vtk\n",
    "from vtk.util import numpy_support\n",
    "from matplotlib.animation import FuncAnimation\n",
    "from IPython.display import HTML\n",
    "import os\n",
    "from matplotlib import animation, rc\n",
    "import re\n",
    "import matplotlib.pyplot as plt\n",
    "directory = \"../spacetimeproject/build/data/vtk\""
   ]
  },
  {
   "cell_type": "code",
   "execution_count": null,
   "metadata": {},
   "outputs": [],
   "source": [
    "rc('animation', html='html5')\n",
    "def atoi(text):\n",
    "    return int(text) if text.isdigit() else text\n",
    "\n",
    "def natural_keys(text):\n",
    "    '''\n",
    "    alist.sort(key=natural_keys) sorts in human order\n",
    "    http://nedbatchelder.com/blog/200712/human_sorting.html\n",
    "    (See Toothy's implementation in the comments)\n",
    "    '''\n",
    "    return [ atoi(c) for c in re.split(r'(\\d+)', text) ]"
   ]
  },
  {
   "cell_type": "code",
   "execution_count": null,
   "metadata": {},
   "outputs": [],
   "source": [
    "def load_f(idd, comp, ds):\n",
    "\n",
    "    fn = directory + \"/\" + ds[comp][idd]\n",
    "\n",
    "    reader = vtk.vtkUnstructuredGridReader()\n",
    "    reader.SetFileName(fn)\n",
    "    reader.Update()\n",
    "\n",
    "    polydata = reader.GetOutput()\n",
    "    data = polydata.GetCellData().GetArray('scalar_value')\n",
    "    as_numpy = numpy_support.vtk_to_numpy(data)\n",
    "\n",
    "    histo = {}\n",
    "    for i in range(polydata.GetNumberOfCells()):\n",
    "        pts = polydata.GetCell(i).GetPoints()    \n",
    "        np_pts = np.array([pts.GetPoint(i) for i in range(pts.GetNumberOfPoints())])\n",
    "        #data_ls.append(numpy.array([data.GetValue(i) for i in range(pts.GetNumberOfPoints())]))\n",
    "        #print(np_pts)\n",
    "        t = np.average(np_pts[:,2])\n",
    "        if t not in histo:\n",
    "            histo[t] = 0\n",
    "        histo[t] += as_numpy[i]\n",
    "    \n",
    "    #print(histo)\n",
    "    \n",
    "    x = [k for k in sorted(histo)]\n",
    "    y = [histo[z] for z in x]\n",
    "    return x,y\n",
    "#x,y = load_f(1,1)\n",
    "#import matplotlib.pyplot as plt\n",
    "#plt.plot(x,np.abs(y))"
   ]
  },
  {
   "cell_type": "code",
   "execution_count": null,
   "metadata": {},
   "outputs": [],
   "source": [
    "def load_residual_history():\n",
    "\n",
    "    ds = []\n",
    "    for gg in [\"P0_r1_\", \"V_x_r1_\", \"V_y_r1\"]:\n",
    "        k = [g for g in os.listdir(directory) if gg in g]\n",
    "        k.sort(key=natural_keys)\n",
    "        #print(k)\n",
    "        ds.append(k)\n",
    "\n",
    "    fig, ax = plt.subplots()\n",
    "\n",
    "    ln = []\n",
    "    for c, name in zip([\"blue\", \"green\", \"red\"],[\"P\", \"Vx\", \"Vy\"]):\n",
    "        l, = plt.plot([], [], color=c, label=name)\n",
    "        ln.append(l)\n",
    "    plt.legend()      \n",
    "\n",
    "    def update(frame):   \n",
    "        mm = 1e-10\n",
    "        for comp in [0,1,2]:\n",
    "            x,y = load_f(frame, comp, ds)\n",
    "            ln[comp].set_data(x, np.abs(y))      \n",
    "            #print(np.max(np.abs(y)))\n",
    "            mm = max(mm,np.max(np.abs(y)))\n",
    "        ax.set_xlim(x[0], x[-1])    \n",
    "        ax.set_ylim(0, mm)\n",
    "        return ln\n",
    "\n",
    "    #ani = FuncAnimation(fig, update, frames=len(ds[0]), blit=True, interval=1000)\n",
    "    #HTML(ani.to_html5_video())\n",
    "    return FuncAnimation(fig, update, frames=len(ds[0]), blit=True, interval=1000)"
   ]
  },
  {
   "cell_type": "code",
   "execution_count": null,
   "metadata": {},
   "outputs": [],
   "source": [
    "%matplotlib inline"
   ]
  },
  {
   "cell_type": "code",
   "execution_count": null,
   "metadata": {},
   "outputs": [],
   "source": [
    "print(\"\")\n",
    "load_residual_history()"
   ]
  },
  {
   "cell_type": "code",
   "execution_count": null,
   "metadata": {},
   "outputs": [],
   "source": []
  },
  {
   "cell_type": "code",
   "execution_count": null,
   "metadata": {},
   "outputs": [],
   "source": []
  }
 ],
 "metadata": {
  "kernelspec": {
   "display_name": "Python 3",
   "language": "python",
   "name": "python3"
  },
  "language_info": {
   "codemirror_mode": {
    "name": "ipython",
    "version": 3
   },
   "file_extension": ".py",
   "mimetype": "text/x-python",
   "name": "python",
   "nbconvert_exporter": "python",
   "pygments_lexer": "ipython3",
   "version": "3.8.10"
  }
 },
 "nbformat": 4,
 "nbformat_minor": 4
}
