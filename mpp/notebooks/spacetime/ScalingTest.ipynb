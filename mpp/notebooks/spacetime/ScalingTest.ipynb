{
 "cells": [
  {
   "cell_type": "code",
   "execution_count": null,
   "metadata": {},
   "outputs": [],
   "source": [
    "import sys\n",
    "import os\n",
    "import re\n",
    "os.chdir(\"..\")\n",
    "from mpp.python.mppy import mpp\n",
    "os.chdir(\"build\")\n"
   ]
  },
  {
   "cell_type": "code",
   "execution_count": null,
   "metadata": {},
   "outputs": [],
   "source": [
    "os.getcwd()"
   ]
  },
  {
   "cell_type": "code",
   "execution_count": null,
   "metadata": {},
   "outputs": [],
   "source": [
    "runs = []"
   ]
  },
  {
   "cell_type": "code",
   "execution_count": null,
   "metadata": {},
   "outputs": [],
   "source": [
    "mpp.git_pull_project()"
   ]
  },
  {
   "cell_type": "code",
   "execution_count": null,
   "metadata": {},
   "outputs": [],
   "source": [
    "mpp.mute = False\n",
    "mpp.build()"
   ]
  },
  {
   "cell_type": "code",
   "execution_count": null,
   "metadata": {},
   "outputs": [],
   "source": [
    "class Run:\n",
    "    data = property()\n",
    "    def __init__(self, kwargs, log):\n",
    "        self.kwargs = kwargs\n",
    "        self.log = log\n",
    "        \n",
    "    @data.getter\n",
    "    def data(self):\n",
    "        log = self.log\n",
    "        try:\n",
    "            seconds = float(re.findall(\"end program after (.*) seconds\",log)[0])\n",
    "        except:\n",
    "            times = re.findall(\"end program after (.*):(.*)\\..* minutes\",log)[0]\n",
    "            seconds = int(times[0])*60 + int(times[1])\n",
    "        data = {\n",
    "            \"seconds\" : seconds,\n",
    "        }\n",
    "        return data"
   ]
  },
  {
   "cell_type": "code",
   "execution_count": null,
   "metadata": {},
   "outputs": [],
   "source": [
    "def runit(procs, kwargs):\n",
    "    code = mpp.run(procs, \"m2g\", kwargs)\n",
    "    print(code)\n",
    "    log = \"\".join(mpp.read_log())\n",
    "    r = Run(kwargs, log)\n",
    "    runs.append(r)\n",
    "    return r"
   ]
  },
  {
   "cell_type": "code",
   "execution_count": null,
   "metadata": {},
   "outputs": [],
   "source": []
  },
  {
   "cell_type": "code",
   "execution_count": null,
   "metadata": {},
   "outputs": [],
   "source": []
  },
  {
   "cell_type": "code",
   "execution_count": null,
   "metadata": {},
   "outputs": [],
   "source": []
  },
  {
   "cell_type": "code",
   "execution_count": null,
   "metadata": {
    "scrolled": true
   },
   "outputs": [],
   "source": [
    "for i in range(5,10):\n",
    "    runit(64,{\"space_deg\":2, \"time_deg\":2, \"PathChoice\": \"none\", \"restart\": 100, \"LinearSolver\":\"GMRES\" })"
   ]
  },
  {
   "cell_type": "code",
   "execution_count": null,
   "metadata": {},
   "outputs": [],
   "source": [
    "def print_table(keys):\n",
    "    print(*[k.rjust(10) for k in [\"seconds\"]+list(keys)])\n",
    "    for r in sorted(runs,key=lambda x:x.data[\"seconds\"]):\n",
    "        print(str(int(r.data[\"seconds\"])).rjust(10), end=\" \")\n",
    "        print(*[str(r.kwargs.get(k,\"-\"))[:10].rjust(10) for k in keys],end=\"\")\n",
    "        print()\n",
    "print_table(runs[3].kwargs.keys())\n"
   ]
  },
  {
   "cell_type": "code",
   "execution_count": null,
   "metadata": {},
   "outputs": [],
   "source": [
    "runs[-1].log"
   ]
  },
  {
   "cell_type": "code",
   "execution_count": null,
   "metadata": {},
   "outputs": [],
   "source": [
    "for r in runs:\n",
    "    print(r.kwargs)"
   ]
  },
  {
   "cell_type": "code",
   "execution_count": null,
   "metadata": {},
   "outputs": [],
   "source": []
  },
  {
   "cell_type": "code",
   "execution_count": null,
   "metadata": {},
   "outputs": [],
   "source": []
  }
 ],
 "metadata": {
  "kernelspec": {
   "display_name": "Python 3",
   "language": "python",
   "name": "python3"
  },
  "language_info": {
   "codemirror_mode": {
    "name": "ipython",
    "version": 3
   },
   "file_extension": ".py",
   "mimetype": "text/x-python",
   "name": "python",
   "nbconvert_exporter": "python",
   "pygments_lexer": "ipython3",
   "version": "3.8.10"
  }
 },
 "nbformat": 4,
 "nbformat_minor": 2
}
