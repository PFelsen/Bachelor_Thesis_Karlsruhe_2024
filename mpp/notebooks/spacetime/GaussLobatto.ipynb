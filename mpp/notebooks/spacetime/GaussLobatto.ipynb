{
 "cells": [
  {
   "cell_type": "code",
   "execution_count": null,
   "metadata": {},
   "outputs": [],
   "source": [
    "from scipy.integrate import quad\n",
    "import numpy.polynomial.legendre as leg\n",
    "from scipy.interpolate import BarycentricInterpolator\n",
    "import numpy as np\n",
    "import matplotlib.pyplot as plt"
   ]
  },
  {
   "cell_type": "code",
   "execution_count": null,
   "metadata": {},
   "outputs": [],
   "source": [
    "def GaussLobatto(NP):\n",
    "    a = 0\n",
    "    b = 1\n",
    "\n",
    "    roots = leg.legroots(leg.legder(np.array([0] * (NP - 1) + [1], dtype=np.float64)))\n",
    "    nodes = np.array(np.append([-1.0], np.append(roots, [1.0])), dtype=np.float64)\n",
    "\n",
    "    nodes = (a * (1 - nodes) + b * (1 + nodes)) / 2\n",
    "\n",
    "    circ_one = np.zeros(NP)\n",
    "    circ_one[0] = 1.0\n",
    "    tcks = [BarycentricInterpolator(nodes, np.roll(circ_one, i)) for i in range(NP)]\n",
    "\n",
    "    weights = np.zeros(NP)\n",
    "    for i in range(NP):\n",
    "        weights[i] = quad(tcks[i], a, b, epsabs=1e-14)[0]\n",
    "\n",
    "\n",
    "    return weights, nodes"
   ]
  },
  {
   "cell_type": "code",
   "execution_count": null,
   "metadata": {},
   "outputs": [],
   "source": []
  },
  {
   "cell_type": "code",
   "execution_count": null,
   "metadata": {},
   "outputs": [],
   "source": [
    "def product(it):\n",
    "    p = 1\n",
    "    for f in it:\n",
    "        p*=f\n",
    "    return p"
   ]
  },
  {
   "cell_type": "code",
   "execution_count": null,
   "metadata": {},
   "outputs": [],
   "source": [
    "def GaussLobattoShapeFunctions(NP):\n",
    "    funcs = []\n",
    "    w, n = GaussLobatto(NP)\n",
    "    for k in range(len(n)):\n",
    "        def helperfunc(k=k):\n",
    "            def func(x):\n",
    "                return product((x-np)/(n[k]-np) for i,np in enumerate(n) if i != k)\n",
    "            return func\n",
    "        funcs.append(helperfunc(k))        \n",
    "    return funcs\n",
    "    \n",
    "    "
   ]
  },
  {
   "cell_type": "code",
   "execution_count": null,
   "metadata": {},
   "outputs": [],
   "source": [
    "w, n = GaussLobatto(4)\n",
    "x = np.linspace(n[2]-1e-10,n[2]+1e-10,10000000)\n",
    "for i, func in enumerate(GaussLobattoShapeFunctions(4)):\n",
    "    if i == 2:\n",
    "        continue\n",
    "    plt.plot(x, func(x))\n",
    "    for node in n:\n",
    "        print(\"{:.2f}\".format(node), \"{:.2f}\".format(func(node)))\n",
    "    print(\"#\"*50)"
   ]
  },
  {
   "cell_type": "code",
   "execution_count": null,
   "metadata": {},
   "outputs": [],
   "source": [
    "from numpy.polynomial import legendre as L"
   ]
  },
  {
   "cell_type": "code",
   "execution_count": null,
   "metadata": {},
   "outputs": [],
   "source": [
    "help(L)"
   ]
  },
  {
   "cell_type": "code",
   "execution_count": null,
   "metadata": {},
   "outputs": [],
   "source": [
    "x = np.linspace(0,1,100)\n",
    "\n",
    "g = np.zeros(4)\n",
    "g[3]=1    \n",
    "y = L.Legendre(g)(2*x-1)\n",
    "plt.plot(x,y)\n",
    "print(g)\n",
    "gd = L.legder(g)\n",
    "print(gd)\n",
    "yd = L.Legendre(gd)(2*x-1)\n",
    "plt.plot(x,yd)\n",
    "\n",
    "plt.grid()"
   ]
  },
  {
   "cell_type": "code",
   "execution_count": null,
   "metadata": {},
   "outputs": [],
   "source": []
  }
 ],
 "metadata": {
  "kernelspec": {
   "display_name": "Python 3",
   "language": "python",
   "name": "python3"
  },
  "language_info": {
   "codemirror_mode": {
    "name": "ipython",
    "version": 3
   },
   "file_extension": ".py",
   "mimetype": "text/x-python",
   "name": "python",
   "nbconvert_exporter": "python",
   "pygments_lexer": "ipython3",
   "version": "3.8.10"
  }
 },
 "nbformat": 4,
 "nbformat_minor": 4
}
