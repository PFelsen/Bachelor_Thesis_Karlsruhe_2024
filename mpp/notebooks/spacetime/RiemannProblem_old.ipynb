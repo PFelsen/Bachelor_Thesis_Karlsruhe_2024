{
 "cells": [
  {
   "cell_type": "markdown",
   "metadata": {},
   "source": [
    "<font size=\"6\">**Riemann-problem for acoustics**</font>\n",
    "$$\n",
    "\\partial_t p = \\text{div} \\mathbf{v} \\\\ \n",
    "\\partial_t \\mathbf{v} = \\nabla p \n",
    "$$\n",
    "\n",
    "$$\n",
    "u_0(x) \n",
    "= \\begin{pmatrix} p_0(x) \\\\ \\mathbf{v_0}(x)  \\end{pmatrix} \n",
    "= \\begin{cases}\n",
    "\\begin{pmatrix} 1.1 \\\\ \\mathbf{0}  \\end{pmatrix}, \\quad x \\in \\Omega_L =(-0.5,0\\phantom{.5}), \\\\\n",
    "\\begin{pmatrix} 0.9 \\\\ \\mathbf{0}  \\end{pmatrix}, \\quad x \\in  \\Omega_R =(\\phantom{-}0\\phantom{.0},0.5),\n",
    "\\end{cases}\n",
    "$$"
   ]
  },
  {
   "cell_type": "code",
   "execution_count": null,
   "metadata": {},
   "outputs": [],
   "source": [
    "import os\n",
    "import matplotlib.pyplot as plt\n",
    "import numpy as np\n",
    "import itertools as it\n",
    "import re\n",
    "import pickle\n",
    "if not os.getcwd().endswith(\"spacetimeproject\"):\n",
    "    os.chdir(\"..\")\n",
    "    print(os.getcwd())\n",
    "from mpp.python.mppy import mpp\n",
    "\n",
    "\n",
    "\n",
    "def run(procs, confname, kwargs):\n",
    "    log = mpp.run(procs, confname, kwargs, return_log=True)\n",
    "    if not re.findall(\"GN_Error\", log):\n",
    "        return \"\"\n",
    "    return log\n",
    "\n",
    "def nn(ls):\n",
    "    for l in ls:\n",
    "        if l:\n",
    "            yield l"
   ]
  },
  {
   "cell_type": "code",
   "execution_count": null,
   "metadata": {},
   "outputs": [],
   "source": [
    "mpp.build()"
   ]
  },
  {
   "cell_type": "code",
   "execution_count": null,
   "metadata": {},
   "outputs": [],
   "source": [
    "lower_first = lambda *ls: list(sorted(list(it.product(*ls)), key=lambda x: sum(x)))"
   ]
  },
  {
   "cell_type": "code",
   "execution_count": null,
   "metadata": {},
   "outputs": [],
   "source": [
    "logs = []"
   ]
  },
  {
   "cell_type": "code",
   "execution_count": null,
   "metadata": {},
   "outputs": [],
   "source": [
    "mpp.build()"
   ]
  },
  {
   "cell_type": "code",
   "execution_count": null,
   "metadata": {},
   "outputs": [],
   "source": [
    "procs = {0:1,1:2,2:8,3:16,4:32,5:32,6:32,7:32}\n",
    "for (sdeg, tdeg), l in it.product([(0,1),(1,2),(2,3),(3,3)],[1,2,3,4,5,6]):\n",
    "    logs.append(run(procs[l], \"riemann\", {\"level\":l, \"plevel\":l, \"space_deg\":sdeg, \"time_deg\":tdeg}))\n",
    "       "
   ]
  },
  {
   "cell_type": "code",
   "execution_count": null,
   "metadata": {},
   "outputs": [],
   "source": [
    "ff = lambda regex, log: float(re.findall(regex, log)[0])\n",
    "fi = lambda regex, log: int(re.findall(regex, log)[0])"
   ]
  },
  {
   "cell_type": "code",
   "execution_count": null,
   "metadata": {},
   "outputs": [],
   "source": [
    "\n",
    "\n",
    "def log_to_data(logg):\n",
    "    l2 = []\n",
    "    h = []\n",
    "    sdeg = []\n",
    "    tdeg = []\n",
    "    for log in nn(logg):\n",
    "        l2.append(ff(\"L2_Error                (.*)\\n\", log))\n",
    "        h.append(ff(\"Mesh width:     \\[(.*),\", log))\n",
    "        sdeg.append(fi(\"space_deg............................... (\\d)\",log))\n",
    "        tdeg.append(fi(\"time_deg................................ (\\d)\",log))\n",
    "    data = list(zip(h, l2, zip(sdeg, tdeg)))\n",
    "    class DataSet:\n",
    "        def __init__(self, data):\n",
    "            self.data = data\n",
    "            self.degrees = []\n",
    "            self.degree_data = {}\n",
    "            for group, items in it.groupby(sorted(data, key=lambda x:x[2]), lambda x:x[2]):        \n",
    "                self.degrees.append(group)\n",
    "                self.degree_data[group]= list(items)\n",
    "                \n",
    "            \n",
    "    ds = DataSet(data)\n",
    "    return ds\n",
    "\n",
    "def data_to_graph(data, s = 0):\n",
    "    hs = np.array([2**(-i) for i in range(1,7)])\n",
    "    hh = [\"2^{-\"+str(k)+\"}\" for k in range(1,7)]\n",
    "    latex = r\"\\hline (p,q)\\text{\\\\} h & \" +  \" & \".join(map(str,np.round(hs,4))) +r\"\\\\ \\hline\" +  \"\\n\"\n",
    "    for group, items in [(g,data.degree_data[g]) for g in data.degrees]:\n",
    "        \n",
    "        #print(group)\n",
    "        #for item in items:\n",
    "        #    print(\"\\t\",item[:2])\n",
    "        #print([i[:2] for i in items])\n",
    "        h, err = list(zip(*[i[:2] for i in items])) \n",
    "        #print(temp)\n",
    "        plt.loglog(h[s:], err[s:], label=str(group), marker=\"x\")\n",
    "        #print(h[1:])\n",
    "        latex += str(group) +\" & \"+ \" & \".join(map(str, np.round(err,4))) + r\"\\\\ \\hline\" + \"\\n\" \n",
    "    \n",
    "    plt.plot(hs,hs**0.5/7, color=\"black\", ls=\"-\", label=\"$\\mathcal{O}(\\sqrt{h})$\")\n",
    "    plt.plot(hs[:4],hs[:4]/5, color=\"black\",ls=\"dotted\", label=\"$\\mathcal{O}(h)$\")\n",
    "    plt.xticks(hs, np.round(hs,4))\n",
    "    plt.legend(bbox_to_anchor=(1.05, 1), loc='upper left')\n",
    "    return r\"\\begin{array}{|r|r|}\" + latex + r\"\\end{array}\"\n"
   ]
  },
  {
   "cell_type": "code",
   "execution_count": null,
   "metadata": {},
   "outputs": [],
   "source": []
  },
  {
   "cell_type": "code",
   "execution_count": null,
   "metadata": {},
   "outputs": [],
   "source": [
    "old_data = log_to_data(pickle.load(open(\"logs\",\"rb\")))\n",
    "latex = data_to_graph(old_data, s=1)\n",
    "display(Latex(latex))\n",
    "print(latex)"
   ]
  },
  {
   "cell_type": "code",
   "execution_count": null,
   "metadata": {},
   "outputs": [],
   "source": []
  },
  {
   "cell_type": "code",
   "execution_count": null,
   "metadata": {},
   "outputs": [],
   "source": [
    "data = log_to_data(logs)\n",
    "latex = data_to_graph(data)\n",
    "display(Latex(latex))\n",
    "print(latex)"
   ]
  },
  {
   "cell_type": "code",
   "execution_count": null,
   "metadata": {},
   "outputs": [],
   "source": [
    "from IPython.display import display, Math, Latex\n"
   ]
  },
  {
   "cell_type": "code",
   "execution_count": null,
   "metadata": {},
   "outputs": [],
   "source": [
    "data_to_graph(old_data, s=1)"
   ]
  },
  {
   "cell_type": "code",
   "execution_count": null,
   "metadata": {},
   "outputs": [],
   "source": []
  },
  {
   "cell_type": "code",
   "execution_count": null,
   "metadata": {},
   "outputs": [],
   "source": []
  },
  {
   "cell_type": "code",
   "execution_count": null,
   "metadata": {},
   "outputs": [],
   "source": []
  },
  {
   "cell_type": "code",
   "execution_count": null,
   "metadata": {},
   "outputs": [],
   "source": [
    "1/0.0625"
   ]
  },
  {
   "cell_type": "markdown",
   "metadata": {},
   "source": [
    "$$\n",
    "Bw_1 =\n",
    "\\begin{pmatrix}\n",
    "0 & 1 & 1\\\\\n",
    "1 & 0 & 0\\\\\n",
    "1 & 0 & 0\n",
    "\\end{pmatrix}\n",
    "\\begin{pmatrix}\n",
    "\\frac{1}{2}\\sqrt2\\\\\n",
    "\\frac{1}{2} \\\\\n",
    "\\frac{1}{2}\n",
    "\\end{pmatrix} = \n",
    "\\begin{pmatrix}\n",
    "1\\\\\n",
    "\\frac{1}{2}\\sqrt2 \\\\\n",
    "\\frac{1}{2}\\sqrt2\n",
    "\\end{pmatrix} = \\sqrt2\\begin{pmatrix}\n",
    "\\frac{1}{2}\\sqrt2\\\\\n",
    "\\frac{1}{2}  \\\\\n",
    "\\frac{1}{2} \n",
    "\\end{pmatrix}\n",
    "= \\lambda_1 w_1\n",
    "$$"
   ]
  },
  {
   "cell_type": "code",
   "execution_count": null,
   "metadata": {},
   "outputs": [],
   "source": [
    "h = np.array([1/2,1/4,1/8,1/16,1/32])\n",
    "l = [0.11224, 0.07875, 0.05636, 0.04068, 0.02964]\n",
    "#l8 = [1.12238485e-01, 7.87537036e-02, 5.63575516e-02, 4.06773403e-02, 2.96380844e-02]\n",
    "\n",
    "plt.loglog(h,l, marker = \"x\")\n",
    "\n",
    "#plt.loglog(h,l8, marker = \"x\", ls = \"--\")\n",
    "plt.loglog(h,h**0.5/6)\n",
    "plt.xticks(h,h)"
   ]
  },
  {
   "cell_type": "code",
   "execution_count": null,
   "metadata": {},
   "outputs": [],
   "source": [
    "help(plt.plot)"
   ]
  },
  {
   "cell_type": "code",
   "execution_count": null,
   "metadata": {},
   "outputs": [],
   "source": []
  }
 ],
 "metadata": {
  "kernelspec": {
   "display_name": "Python 3",
   "language": "python",
   "name": "python3"
  },
  "language_info": {
   "codemirror_mode": {
    "name": "ipython",
    "version": 3
   },
   "file_extension": ".py",
   "mimetype": "text/x-python",
   "name": "python",
   "nbconvert_exporter": "python",
   "pygments_lexer": "ipython3",
   "version": "3.8.10"
  }
 },
 "nbformat": 4,
 "nbformat_minor": 4
}
